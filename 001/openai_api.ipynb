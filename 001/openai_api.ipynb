{
  "nbformat": 4,
  "nbformat_minor": 0,
  "metadata": {
    "colab": {
      "provenance": [],
      "authorship_tag": "ABX9TyPeKOWJucSoUlOW89sK1DZg"
    },
    "kernelspec": {
      "name": "python3",
      "display_name": "Python 3"
    },
    "language_info": {
      "name": "python"
    }
  },
  "cells": [
    {
      "cell_type": "markdown",
      "source": [
        "# Setup\n",
        "\n",
        " - [OpenAI](https://beta.openai.com/)\n",
        " - [python-dotenv](https://pypi.org/project/python-dotenv/)\n",
        "\n",
        "        python -m venv venv\n",
        "        source venv/bin/activate\n",
        "        pip install openai python-dotenv\n",
        "        pip freeze >> requirements.txt\n",
        "\n",
        " - **.env**\n",
        "\n",
        "     - [OpenAI Key](https://beta.openai.com/account/api-keys)\n",
        "\n",
        "            OPENAI_API_KEY="
      ],
      "metadata": {
        "id": "0ga2Uh4We6Mw"
      }
    }
  ]
}