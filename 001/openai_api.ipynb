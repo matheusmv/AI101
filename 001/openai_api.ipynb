{
  "nbformat": 4,
  "nbformat_minor": 0,
  "metadata": {
    "colab": {
      "provenance": [],
      "authorship_tag": "ABX9TyPTc86JceJ70iY+Wl0f8AAK"
    },
    "kernelspec": {
      "name": "python3",
      "display_name": "Python 3"
    },
    "language_info": {
      "name": "python"
    }
  },
  "cells": [
    {
      "cell_type": "markdown",
      "source": [
        "# Setup\n",
        "\n",
        " - [OpenAI](https://beta.openai.com/)\n",
        " - [python-dotenv](https://pypi.org/project/python-dotenv/)\n",
        "\n",
        "        python -m venv venv\n",
        "        source venv/bin/activate\n",
        "        pip install openai python-dotenv\n",
        "        pip freeze >> requirements.txt\n",
        "\n",
        " - **.env**\n",
        "\n",
        "     - [OpenAI Key](https://beta.openai.com/account/api-keys)\n",
        "\n",
        "            OPENAI_API_KEY="
      ],
      "metadata": {
        "id": "0ga2Uh4We6Mw"
      }
    },
    {
      "cell_type": "code",
      "source": [
        "from subprocess import run\n",
        "\n",
        "\n",
        "run([\"pip\", \"install\", \"openai\", \"python-dotenv\"])"
      ],
      "metadata": {
        "id": "7GTgW8uZ0wAM"
      },
      "execution_count": null,
      "outputs": []
    },
    {
      "cell_type": "code",
      "source": [
        "from os import path\n",
        "\n",
        "\n",
        "def all_required_variables_have_been_provided(config, variables):\n",
        "    ok = True\n",
        "    for variable in variables:\n",
        "        if variable not in config or not config[variable]:\n",
        "            ok = False\n",
        "            print(f'{variable} is required')\n",
        "    return ok\n",
        "\n",
        "\n",
        "def create_environment_file(**kwargs):\n",
        "    if not all_required_variables_have_been_provided(kwargs, [\n",
        "        'OPENAI_API_KEY'\n",
        "    ]):\n",
        "        return\n",
        "\n",
        "    with open(path.join('.', '.env'), 'w') as env_file:\n",
        "        for key, value in kwargs.items():\n",
        "            env_file.write(f'{key}={value}')\n",
        "\n",
        "\n",
        "create_environment_file(OPENAI_API_KEY='')"
      ],
      "metadata": {
        "id": "elMRtVCZpZOT"
      },
      "execution_count": null,
      "outputs": []
    },
    {
      "cell_type": "code",
      "source": [
        "from dotenv import load_dotenv\n",
        "from os import getenv\n",
        "\n",
        "load_dotenv()\n",
        "\n",
        "print(getenv('OPENAI_API_KEY'))"
      ],
      "metadata": {
        "id": "c2LqAAeb1dyU"
      },
      "execution_count": null,
      "outputs": []
    },
    {
      "cell_type": "markdown",
      "source": [
        "# [Models](https://beta.openai.com/docs/models)\n",
        "\n",
        " - [GPT-3](https://beta.openai.com/docs/models/gpt-3): understand and generate natural language.\n",
        "     - text-davinci-003\n",
        "     - text-curie-001\n",
        "     - text-babbage-001\n",
        "     - text-ada-001\n",
        " - [Codex](https://beta.openai.com/docs/models/codex): understand and generate code, including translating natural language to code.\n",
        "     - code-davinci-002\n",
        "     - code-cushman-001\n",
        " - [Moderation](https://beta.openai.com/docs/guides/moderation): can detect whether text may be sensitive or unsafe"
      ],
      "metadata": {
        "id": "BSVJSTyZ4SFa"
      }
    },
    {
      "cell_type": "code",
      "source": [
        "import openai\n",
        "\n",
        "openai.api_key = getenv('OPENAI_API_KEY')\n",
        "\n",
        "def completion_config(model, prompt, **kwargs):\n",
        "    config = {\n",
        "        'model': model,\n",
        "        'prompt': prompt\n",
        "    }\n",
        "\n",
        "    return {**config, **kwargs}"
      ],
      "metadata": {
        "id": "1n0hc9eSQ6ZF"
      },
      "execution_count": 71,
      "outputs": []
    },
    {
      "cell_type": "markdown",
      "source": [
        "# [Text classification](https://monkeylearn.com/text-classification/)\n",
        "\n",
        "Is a machine learning technique that assigns a set of predefined\n",
        "categories to open-ended text. Text classifiers can be used to organize, structure, and categorize documents, medical studies \n",
        "and files.\n",
        "\n",
        "Text classification is one of the fundamental tasks in natural \n",
        "language processing with broad applications such as sentiment \n",
        "analysis, topic labeling, spam detection, and intent detection."
      ],
      "metadata": {
        "id": "pBm68LtADVWU"
      }
    },
    {
      "cell_type": "code",
      "source": [
        "def perform_text_classification(prompt, **kwargs):\n",
        "    config = completion_config(\n",
        "        'text-davinci-003',\n",
        "        prompt,\n",
        "        **kwargs\n",
        "    )\n",
        "\n",
        "    return openai.Completion.create(**config)\n",
        "\n",
        "\n",
        "def build_prompt_for_this_tweet(tweet):\n",
        "    return f\"\"\"Decide whether a Tweet's sentiment is positive, neutral, or negative.\n",
        "\n",
        "Tweet: \"{tweet}\"\n",
        "Sentiment:\"\"\"\n",
        "\n",
        "\n",
        "def build_prompt_for_this_tweets(tweets):\n",
        "    parsed_tweets = ''\n",
        "\n",
        "    for index, tweet in enumerate(tweets):\n",
        "        parsed_tweets += f'{index + 1}. \"{tweet}\"\\n'\n",
        "\n",
        "    return f\"\"\"Classify the sentiment in these tweets:\n",
        "\n",
        "{parsed_tweets}\n",
        "\n",
        "Tweet sentiment ratings:\"\"\""
      ],
      "metadata": {
        "id": "10DOTlJMEzQR"
      },
      "execution_count": null,
      "outputs": []
    },
    {
      "cell_type": "code",
      "source": [
        "response = perform_text_classification(build_prompt_for_this_tweet(\n",
        "    \"I loved the new Batman movie!\"\n",
        "),\n",
        "    temperature = 0,\n",
        "    max_tokens = 60,\n",
        "    top_p = 1,\n",
        "    frequency_penalty = 0.5,\n",
        "    presence_penalty = 0\n",
        ")\n",
        "\n",
        "print(response)"
      ],
      "metadata": {
        "id": "DjE5ezm4dQsI"
      },
      "execution_count": null,
      "outputs": []
    },
    {
      "cell_type": "code",
      "source": [
        "response = perform_text_classification(build_prompt_for_this_tweets([\n",
        "    \"I can't stand homework\",\n",
        "    \"This sucks. I'm bored 😠\",\n",
        "    \"I can't wait for Halloween!!!\",\n",
        "    \"My cat is adorable ❤️❤️\",\n",
        "    \"I hate chocolate\"\n",
        "]),\n",
        "    temperature = 0,\n",
        "    max_tokens = 60,\n",
        "    top_p = 1,\n",
        "    frequency_penalty = 0,\n",
        "    presence_penalty = 0\n",
        ")\n",
        "\n",
        "print(response)"
      ],
      "metadata": {
        "id": "h3XVrYdodVeI"
      },
      "execution_count": null,
      "outputs": []
    },
    {
      "cell_type": "markdown",
      "source": [
        "# [Text Generation](https://spotintelligence.com/2022/12/19/text-generation-nlp/)\n",
        "\n",
        "Is a subfield of natural language processing (NLP) that deals \n",
        "with generating text automatically. It has a wide range of \n",
        "applications, including machine translation, content creation, \n",
        "and conversational agents."
      ],
      "metadata": {
        "id": "yUh_yyv4g_7H"
      }
    },
    {
      "cell_type": "code",
      "source": [
        "def perform_text_generation(prompt, **kwargs):\n",
        "    config = completion_config(\n",
        "        'text-davinci-003',\n",
        "        prompt,\n",
        "        **{\n",
        "            'temperature': 0.6,\n",
        "            'max_tokens': 150,\n",
        "            'top_p': 1,\n",
        "            'frequency_penalty': 1,\n",
        "            'presence_penalty': 1,\n",
        "            **kwargs\n",
        "        }\n",
        "    )\n",
        "\n",
        "    return openai.Completion.create(**config)"
      ],
      "metadata": {
        "id": "tkilJ8ZAhgvC"
      },
      "execution_count": 89,
      "outputs": []
    },
    {
      "cell_type": "code",
      "source": [
        "response = perform_text_generation(\n",
        "    \"Brainstorm some ideas combining Golang and Network programming:\",\n",
        ")\n",
        "\n",
        "print(response)"
      ],
      "metadata": {
        "id": "wEaH3BPhkUgr"
      },
      "execution_count": null,
      "outputs": []
    }
  ]
}