{
  "nbformat": 4,
  "nbformat_minor": 0,
  "metadata": {
    "colab": {
      "provenance": [],
      "authorship_tag": "ABX9TyO1/nakAyetiJ8nKYeS7Y80"
    },
    "kernelspec": {
      "name": "python3",
      "display_name": "Python 3"
    },
    "language_info": {
      "name": "python"
    }
  },
  "cells": [
    {
      "cell_type": "markdown",
      "source": [
        "# Setup\n",
        "\n",
        " - [OpenAI](https://beta.openai.com/)\n",
        " - [python-dotenv](https://pypi.org/project/python-dotenv/)\n",
        "\n",
        "        python -m venv venv\n",
        "        source venv/bin/activate\n",
        "        pip install openai python-dotenv\n",
        "        pip freeze >> requirements.txt\n",
        "\n",
        " - **.env**\n",
        "\n",
        "     - [OpenAI Key](https://beta.openai.com/account/api-keys)\n",
        "\n",
        "            OPENAI_API_KEY="
      ],
      "metadata": {
        "id": "0ga2Uh4We6Mw"
      }
    },
    {
      "cell_type": "code",
      "source": [
        "from subprocess import run\n",
        "\n",
        "\n",
        "run([\"pip\", \"install\", \"openai\", \"python-dotenv\"])"
      ],
      "metadata": {
        "id": "7GTgW8uZ0wAM"
      },
      "execution_count": null,
      "outputs": []
    },
    {
      "cell_type": "code",
      "source": [
        "from os import path\n",
        "\n",
        "\n",
        "def all_required_variables_have_been_provided(config, variables):\n",
        "    ok = True\n",
        "    for variable in variables:\n",
        "        if variable not in config or not config[variable]:\n",
        "            ok = False\n",
        "            print(f'{variable} is required')\n",
        "    return ok\n",
        "\n",
        "\n",
        "def create_environment_file(**kwargs):\n",
        "    if not all_required_variables_have_been_provided(kwargs, [\n",
        "        'OPENAI_API_KEY'\n",
        "    ]):\n",
        "        return\n",
        "\n",
        "    with open(path.join('.', '.env'), 'w') as env_file:\n",
        "        for key, value in kwargs.items():\n",
        "            env_file.write(f'{key}={value}')\n",
        "\n",
        "\n",
        "create_environment_file(OPENAI_API_KEY='')"
      ],
      "metadata": {
        "id": "elMRtVCZpZOT"
      },
      "execution_count": null,
      "outputs": []
    },
    {
      "cell_type": "code",
      "source": [
        "from dotenv import load_dotenv\n",
        "from os import getenv\n",
        "\n",
        "load_dotenv()\n",
        "\n",
        "print(getenv('OPENAI_API_KEY'))"
      ],
      "metadata": {
        "id": "c2LqAAeb1dyU"
      },
      "execution_count": null,
      "outputs": []
    },
    {
      "cell_type": "markdown",
      "source": [
        "# [Models](https://beta.openai.com/docs/models)\n",
        "\n",
        " - [GPT-3](https://beta.openai.com/docs/models/gpt-3): understand and generate natural language.\n",
        "     - text-davinci-003\n",
        "     - text-curie-001\n",
        "     - text-babbage-001\n",
        "     - text-ada-001\n",
        " - [Codex](https://beta.openai.com/docs/models/codex): understand and generate code, including translating natural language to code.\n",
        "     - code-davinci-002\n",
        "     - code-cushman-001\n",
        " - [Moderation](https://beta.openai.com/docs/guides/moderation): can detect whether text may be sensitive or unsafe"
      ],
      "metadata": {
        "id": "BSVJSTyZ4SFa"
      }
    }
  ]
}